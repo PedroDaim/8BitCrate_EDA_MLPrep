{
 "cells": [
  {
   "cell_type": "code",
   "execution_count": 2,
   "id": "cc888a42",
   "metadata": {},
   "outputs": [],
   "source": [
    "#Import necessary libraries\n",
    "import numpy as np\n",
    "import matplotlib.pyplot as plt\n",
    "import seaborn as sns\n",
    "import pandas as pd\n",
    "from datetime import datetime"
   ]
  },
  {
   "cell_type": "code",
   "execution_count": 3,
   "id": "0943a8a3",
   "metadata": {},
   "outputs": [],
   "source": [
    "#Load the dataset into a DataFrame\n",
    "df_raw = pd.read_csv(r'https://raw.githubusercontent.com/PedroDaim/8BitCrate_EDA_MLPrep/refs/heads/main/data/8bitcrate_orders_raw.csv')"
   ]
  },
  {
   "cell_type": "code",
   "execution_count": 4,
   "id": "c933b518",
   "metadata": {},
   "outputs": [
    {
     "name": "stdout",
     "output_type": "stream",
     "text": [
      "<class 'pandas.core.frame.DataFrame'>\n",
      "RangeIndex: 21864 entries, 0 to 21863\n",
      "Data columns (total 11 columns):\n",
      " #   Column                   Non-Null Count  Dtype  \n",
      "---  ------                   --------------  -----  \n",
      " 0   USER_ID                  21864 non-null  object \n",
      " 1   ORDER_ID                 21864 non-null  object \n",
      " 2   PURCHASE_TS              21864 non-null  object \n",
      " 3   SHIP_TS                  21864 non-null  object \n",
      " 4   PRODUCT_NAME             21864 non-null  object \n",
      " 5   PRODUCT_ID               21864 non-null  object \n",
      " 6   USD_PRICE                21859 non-null  float64\n",
      " 7   PURCHASE_PLATFORM        21864 non-null  object \n",
      " 8   MARKETING_CHANNEL        21781 non-null  object \n",
      " 9   ACCOUNT_CREATION_METHOD  21781 non-null  object \n",
      " 10  COUNTRY_CODE             21826 non-null  object \n",
      "dtypes: float64(1), object(10)\n",
      "memory usage: 1.8+ MB\n"
     ]
    }
   ],
   "source": [
    "# Check for data types and null values\n",
    "df_raw.info()"
   ]
  },
  {
   "cell_type": "code",
   "execution_count": 5,
   "id": "57113c7b",
   "metadata": {},
   "outputs": [],
   "source": [
    "#Convert 'purchase_date' and shipping_date columns to datetime format\n",
    "df_raw['PURCHASE_TS'] = pd.to_datetime(df_raw['PURCHASE_TS'], format='%m/%d/%Y', errors='coerce')\n",
    "df_raw['SHIP_TS'] = pd.to_datetime(df_raw['SHIP_TS'], format='%m/%d/%Y', errors='coerce')"
   ]
  },
  {
   "cell_type": "code",
   "execution_count": 6,
   "id": "690622a4",
   "metadata": {},
   "outputs": [
    {
     "name": "stdout",
     "output_type": "stream",
     "text": [
      "<class 'pandas.core.frame.DataFrame'>\n",
      "RangeIndex: 21864 entries, 0 to 21863\n",
      "Data columns (total 11 columns):\n",
      " #   Column                   Non-Null Count  Dtype         \n",
      "---  ------                   --------------  -----         \n",
      " 0   USER_ID                  21864 non-null  object        \n",
      " 1   ORDER_ID                 21864 non-null  object        \n",
      " 2   PURCHASE_TS              21853 non-null  datetime64[ns]\n",
      " 3   SHIP_TS                  21864 non-null  datetime64[ns]\n",
      " 4   PRODUCT_NAME             21864 non-null  object        \n",
      " 5   PRODUCT_ID               21864 non-null  object        \n",
      " 6   USD_PRICE                21859 non-null  float64       \n",
      " 7   PURCHASE_PLATFORM        21864 non-null  object        \n",
      " 8   MARKETING_CHANNEL        21781 non-null  object        \n",
      " 9   ACCOUNT_CREATION_METHOD  21781 non-null  object        \n",
      " 10  COUNTRY_CODE             21826 non-null  object        \n",
      "dtypes: datetime64[ns](2), float64(1), object(8)\n",
      "memory usage: 1.8+ MB\n"
     ]
    }
   ],
   "source": [
    "#Check if datetime conversion was successful\n",
    "df_raw.info()"
   ]
  },
  {
   "cell_type": "code",
   "execution_count": null,
   "id": "9978beaf",
   "metadata": {},
   "outputs": [],
   "source": []
  }
 ],
 "metadata": {
  "kernelspec": {
   "display_name": "Python 3",
   "language": "python",
   "name": "python3"
  },
  "language_info": {
   "codemirror_mode": {
    "name": "ipython",
    "version": 3
   },
   "file_extension": ".py",
   "mimetype": "text/x-python",
   "name": "python",
   "nbconvert_exporter": "python",
   "pygments_lexer": "ipython3",
   "version": "3.13.3"
  }
 },
 "nbformat": 4,
 "nbformat_minor": 5
}
